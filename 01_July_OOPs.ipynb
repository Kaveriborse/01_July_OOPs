{
 "cells": [
  {
   "cell_type": "markdown",
   "id": "7389f48a",
   "metadata": {},
   "source": [
    "Primary goal of Object Oriented Programming\n",
    "  "
   ]
  },
  {
   "cell_type": "raw",
   "id": "6cc487ea",
   "metadata": {},
   "source": [
    "It aims to implement real world entities like inheritance,polymorphism,encapsulation, etc. in the programming.The main     aim of OOPs is to bind the data and the functions that work on that together as asingle unit so that no other part of the   code can access this data."
   ]
  },
  {
   "cell_type": "markdown",
   "id": "bff29caf",
   "metadata": {},
   "source": [
    "\"Object\" in python"
   ]
  },
  {
   "cell_type": "raw",
   "id": "a8f0aa71",
   "metadata": {},
   "source": [
    "In python, an object refers to a particular instance of a class. Objects are refered as building blocks of of OOP."
   ]
  },
  {
   "cell_type": "markdown",
   "id": "2fa6844c",
   "metadata": {},
   "source": [
    "\"class\" in python "
   ]
  },
  {
   "cell_type": "raw",
   "id": "a55345e0",
   "metadata": {},
   "source": [
    "   A class is like an object constructor, or a \"blueprint\" for creating objects or we acn say that a class is a group of      objects that share common properties and behavior. "
   ]
  },
  {
   "cell_type": "markdown",
   "id": "46055e32",
   "metadata": {},
   "source": [
    "\"attributes\" in python"
   ]
  },
  {
   "cell_type": "raw",
   "id": "f5f168d6",
   "metadata": {},
   "source": [
    "In python, attributes refer to the characteristics or properties of an object.These attributes can be accessed and modified using dot notation. There are two types of attributes in python:\n",
    "\n",
    "1.Instance attributes:\n",
    "These attributes are specific to an instance of a class.They are defined within the methods of a class and are unique to each object created from that class.\n",
    "\n",
    "2.class attributes:\n",
    "These attributes are shared by all instances of a class.They are defined outside the methods of a class and are accessed using the class name."
   ]
  },
  {
   "cell_type": "markdown",
   "id": "abd83479",
   "metadata": {},
   "source": [
    "\"methods\" in python"
   ]
  },
  {
   "cell_type": "raw",
   "id": "1eca9bd5",
   "metadata": {},
   "source": [
    "In python, method is a function that is defined within a class and is accociated with objects created from that class.Methods are used to define the behaviour of objects and perform specific actions on the data accociated with the class.There are three methods in python,\n",
    "\n",
    "1.Instance method:\n",
    "These methods are defined within a class and operate on individual instances of the class.Instance methods have access to the instance itself via the 'self' parameter.\n",
    "\n",
    "2.class method:\n",
    "These methods are defined with the '@classmethod' decorator and operate on the class itself rather than instances.Class methodes have access to the class via the 'cls' parameter.\n",
    "\n",
    "3.Static method:\n",
    "These methods are defined with the '@staticmethod' decorator and dont have access to the instance or class."
   ]
  },
  {
   "cell_type": "markdown",
   "id": "af5c3d4b",
   "metadata": {},
   "source": [
    "Difference between class variables and instance variables in Python"
   ]
  },
  {
   "cell_type": "raw",
   "id": "14057d94",
   "metadata": {},
   "source": [
    "The main difference between class variables and instance variables in python lies intheir scope,\n",
    "\n",
    "Instance variable:\n",
    "Instance variable are specific to each instance(object) of a class.They are defined within the methods of a class or in constructor ('__init__')using the 'self' keyword.Instance variables are accessed using the instance of a class and are typically used to represent unique attributes for data for each object.\n",
    "\n",
    "class variable:\n",
    "Class variable are defined within a class but outside any methods.They are shared by all instances of the class.Class variables are typically used to represent attributes that are common to all objects of the class."
   ]
  },
  {
   "cell_type": "markdown",
   "id": "c3d2c9fb",
   "metadata": {},
   "source": [
    "Purpose of the 'self' parameter in Python class methods"
   ]
  },
  {
   "cell_type": "raw",
   "id": "3819725e",
   "metadata": {},
   "source": [
    "In python, the 'self' parameter is a convention used to refer to the instance of a class wiyhin its methods.It serves the following purposes :\n",
    "1.Accessing instance variables:\n",
    "By using 'self' , you can access and modify the instance variable of an object within its methods. The 'self' parameter allowes you to differentiate between the instance and local variables within the method.\n",
    "\n",
    "2.calling other methods:\n",
    "The 'self' parameter enables you to call other methods within a class using the instance itself.This allowes method to interact and collaborate with each other to perform various task.\n",
    "\n",
    "3.creating and accessing instance-specific data:\n",
    "The self parameter is used to creat and access instance-specific data within methods.\n",
    "\n",
    "The 'self' parameter is a way for methods to refer to the instance itself and operate on its data."
   ]
  },
  {
   "cell_type": "markdown",
   "id": "5296a418",
   "metadata": {},
   "source": [
    "Examples"
   ]
  },
  {
   "cell_type": "markdown",
   "id": "bcbee6b2",
   "metadata": {},
   "source": [
    "# 1"
   ]
  },
  {
   "cell_type": "raw",
   "id": "0b97d447",
   "metadata": {},
   "source": [
    "For a library management system, you have to design the \"Book\" class with OOP\n",
    "principles in mind. The “Book” class will have following attributes:\n",
    "a. title: Represents the title of the book.\n",
    "b. author: Represents the author(s) of the book.\n",
    "c. isbn: Represents the ISBN (International Standard Book Number) of the book.\n",
    "d. publication_year: Represents the year of publication of the book.\n",
    "e. available_copies: Represents the number of copies available for checkout.\n",
    "The class will also include the following methods:\n",
    "a. check_out(self): Decrements the available copies by one if there are copies\n",
    "available for checkout.\n",
    "b. return_book(self): Increments the available copies by one when a book is\n",
    "returned.\n",
    "c. display_book_info(self): Displays the information"
   ]
  },
  {
   "cell_type": "code",
   "execution_count": 1,
   "id": "f2033849",
   "metadata": {},
   "outputs": [],
   "source": [
    "class Book():\n",
    "    def __init__(self,title,author,isbn,publication_year,available_copies):\n",
    "        self.title=title\n",
    "        self.author=author\n",
    "        self.isbn=isbn\n",
    "        self.publication_year=publication_year\n",
    "        self.available_copies=available_copies\n",
    "        self.Rbook=[]\n",
    "    \n",
    "    def add_book(self,books):\n",
    "        self.Rbook.append(books)\n",
    "        \n",
    "    def check_out(self):\n",
    "            copies=self.available_copies-1\n",
    "            print(f'Available_copies of book \"{self.title}\" for check_out = {copies}')\n",
    "            \n",
    "    def return_book(self,bookno):\n",
    "        if bookno==self.isbn :\n",
    "            copies=self.available_copies+1\n",
    "            print(f'The available copies of book \"{self.title}\" = {copies}')\n",
    "        else:\n",
    "            print(f'{self.title} book is no yet returned')\n",
    "           \n",
    "        \n",
    "    def display_info(self):\n",
    "        print(f'The book titled {self.title} written by {self.author} ISBN no is {self.isbn}, publication year is\\n {self.publication_year} and available copies are {self.available_copies}')"
   ]
  },
  {
   "cell_type": "code",
   "execution_count": 3,
   "id": "a45371a0",
   "metadata": {},
   "outputs": [],
   "source": [
    "book1=Book(\"Wings of Fire\",\"Dr.A.P.J.Abdul Kalam\",254,1999,25)"
   ]
  },
  {
   "cell_type": "code",
   "execution_count": 4,
   "id": "cf79f478",
   "metadata": {},
   "outputs": [],
   "source": [
    "book1.add_book(\"Wings of Fire\")\n",
    "book1.add_book('Yayati')\n",
    "book1.add_book('Mystry')\n",
    "book1.add_book('Ignited Wings')"
   ]
  },
  {
   "cell_type": "code",
   "execution_count": 5,
   "id": "aa7a3f4c",
   "metadata": {},
   "outputs": [
    {
     "data": {
      "text/plain": [
       "['Wings of Fire', 'Yayati', 'Mystry', 'Ignited Wings']"
      ]
     },
     "execution_count": 5,
     "metadata": {},
     "output_type": "execute_result"
    }
   ],
   "source": [
    "book1.Rbook"
   ]
  },
  {
   "cell_type": "code",
   "execution_count": 6,
   "id": "98731c34",
   "metadata": {},
   "outputs": [
    {
     "name": "stdout",
     "output_type": "stream",
     "text": [
      "The book titled Wings of Fire written by Dr.A.P.J.Abdul Kalam ISBN no is 254, publication year is\n",
      " 1999 and available copies are 25\n"
     ]
    }
   ],
   "source": [
    "book1.display_info()"
   ]
  },
  {
   "cell_type": "code",
   "execution_count": 7,
   "id": "20bcf8a0",
   "metadata": {},
   "outputs": [
    {
     "name": "stdout",
     "output_type": "stream",
     "text": [
      "Available_copies of book \"Wings of Fire\" for check_out = 24\n",
      "The available copies of book \"Wings of Fire\" = 26\n"
     ]
    }
   ],
   "source": [
    "book1.check_out()\n",
    "book1.return_book(254)"
   ]
  },
  {
   "cell_type": "markdown",
   "id": "8a4f0f51",
   "metadata": {},
   "source": [
    "# 2"
   ]
  },
  {
   "cell_type": "raw",
   "id": "db027749",
   "metadata": {},
   "source": [
    "For a ticket booking system, you have to design the \"Ticket\" class with OOP\n",
    "principles in mind. The “Ticket” class should have the following attributes:\n",
    "a. ticket_id: Represents the unique identifier for the ticket.\n",
    "b. event_name: Represents the name of the event.\n",
    "c. event_date: Represents the date of the event.\n",
    "d. venue: Represents the venue of the event.\n",
    "e. seat_number: Represents the seat number associated with the ticket.\n",
    "f. price: Represents the price of the ticket.\n",
    "g. is_reserved: Represents the reservation status of the ticket.\n",
    "The class also includes the following methods:\n",
    "a. reserve_ticket(self): Marks the ticket as reserved if it is not already reserved.\n",
    "b. cancel_reservation(self): Cancels the reservation of the ticket if it is already\n",
    "reserved.\n",
    "c. display_ticket_info(self): Displays the information about the ticket, including its\n",
    "attributes and reservation status."
   ]
  },
  {
   "cell_type": "code",
   "execution_count": 1,
   "id": "a239c801",
   "metadata": {},
   "outputs": [],
   "source": [
    "class Ticket():\n",
    "    def __init__(self,event_name,event_date,venue,seat_no, ticket_id,price,is_reserved):\n",
    "        self.event_name=event_name\n",
    "        self.event_date=event_date\n",
    "        self.venue=venue\n",
    "        self.seat_no=seat_no\n",
    "        self.price=price\n",
    "        self.is_reserved=is_reserved\n",
    "        self.ticket_id=ticket_id\n",
    "        \n",
    "    def is_reserve(self,seat_no):\n",
    "        if self.price==200:\n",
    "            print(f' {self.seat_no} is reserved')\n",
    "        else:\n",
    "            print(f'{self.seat_no} is not reserved')\n",
    "        \n",
    "    def reserve_ticket(self):\n",
    "        if self.seat_no==self.ticket_id:\n",
    "            print(f'ticket {self.seat_no} is already reserved')\n",
    "        else:\n",
    "            print(f'{self.seat_no} is reserved now')\n",
    "            \n",
    "    def cancel_reservation(self):\n",
    "        if self.is_reserved!=False:\n",
    "            print(f' {self.ticket_id} is already reserved hence reservation is cancle')\n",
    "        else:\n",
    "            print(f' {self.ticket_id} is not reserved')\n",
    "            \n",
    "    def display_info(self):\n",
    "        print(f'The ticket {self.tecket_id} is of the event {self.event} dated on {self.event_date} \\n at {self.venue} the price of ticket is {self.price}')"
   ]
  },
  {
   "cell_type": "code",
   "execution_count": 2,
   "id": "aa16e898",
   "metadata": {},
   "outputs": [],
   "source": [
    "cust1=Ticket(\"Debate_competion\",\"12/8/2023\",\"S.G.P.Collage\",564,569,200,True)"
   ]
  },
  {
   "cell_type": "code",
   "execution_count": 3,
   "id": "7be5c4cf",
   "metadata": {},
   "outputs": [
    {
     "name": "stdout",
     "output_type": "stream",
     "text": [
      "564 is reserved now\n"
     ]
    }
   ],
   "source": [
    "cust1.reserve_ticket()"
   ]
  },
  {
   "cell_type": "code",
   "execution_count": 4,
   "id": "1cea3a8f",
   "metadata": {},
   "outputs": [
    {
     "name": "stdout",
     "output_type": "stream",
     "text": [
      " 569 is already reserved hence reservation is cancle\n"
     ]
    }
   ],
   "source": [
    "cust1.cancel_reservation()"
   ]
  },
  {
   "cell_type": "code",
   "execution_count": 5,
   "id": "bf7c88bb",
   "metadata": {},
   "outputs": [
    {
     "name": "stdout",
     "output_type": "stream",
     "text": [
      " 564 is reserved\n"
     ]
    }
   ],
   "source": [
    "cust1.is_reserve(564)"
   ]
  },
  {
   "cell_type": "markdown",
   "id": "9ae5a643",
   "metadata": {},
   "source": [
    "# 3"
   ]
  },
  {
   "cell_type": "raw",
   "id": "a32dd5b3",
   "metadata": {},
   "source": [
    "You are creating a shopping cart for an e-commerce website. Using OOP to model\n",
    "the \"ShoppingCart\" functionality the class should contain following attributes and\n",
    "methods:\n",
    "a. items: Represents the list of items in the shopping cart.\n",
    "The class also includes the following methods:\n",
    "a. add_item(self, item): Adds an item to the shopping cart by appending it to the\n",
    "list of items.\n",
    "b. remove_item(self, item): Removes an item from the shopping cart if it exists in\n",
    "the list.\n",
    "c. view_cart(self): Displays the items currently present in the shopping cart.\n",
    "d. clear_cart(self): Clears all items from the shopping cart by reassigning an\n",
    "empty list to the items attribute."
   ]
  },
  {
   "cell_type": "code",
   "execution_count": 200,
   "id": "157f6e8f",
   "metadata": {},
   "outputs": [],
   "source": [
    "class shopping_cart:\n",
    "    def __init__(self):\n",
    "        self.items=[]\n",
    "        \n",
    "    def add_item(self,item):\n",
    "        self.items.append(item)\n",
    "        \n",
    "    def remove_item(self,item):\n",
    "        if item in self.items:\n",
    "            self.items.remove(item)\n",
    "            print(f' {self.items}')\n",
    "        else:\n",
    "            print(f'{item} is not in cart')\n",
    "            \n",
    "    def view_cart(self):\n",
    "        print(f'{self.items}')\n",
    "        \n",
    "    def clear_cart(self):\n",
    "            self.items.clear()\n",
    "            print(f'{self.items}')"
   ]
  },
  {
   "cell_type": "code",
   "execution_count": 201,
   "id": "36969ab6",
   "metadata": {},
   "outputs": [],
   "source": [
    "cart=shopping_cart()"
   ]
  },
  {
   "cell_type": "code",
   "execution_count": 202,
   "id": "f7c4e538",
   "metadata": {},
   "outputs": [],
   "source": [
    "cart.add_item(\"suger\")\n",
    "cart.add_item(\"soap\")\n",
    "cart.add_item(\"pencil\")\n",
    "cart.add_item(\"bag\")\n",
    "cart.add_item(\"cream\")\n",
    "cart.add_item(\"shampoo\")"
   ]
  },
  {
   "cell_type": "code",
   "execution_count": 203,
   "id": "9964ab9d",
   "metadata": {},
   "outputs": [
    {
     "data": {
      "text/plain": [
       "['suger', 'soap', 'pencil', 'bag', 'cream', 'shampoo']"
      ]
     },
     "execution_count": 203,
     "metadata": {},
     "output_type": "execute_result"
    }
   ],
   "source": [
    "cart.items"
   ]
  },
  {
   "cell_type": "code",
   "execution_count": 204,
   "id": "abc01759",
   "metadata": {},
   "outputs": [
    {
     "name": "stdout",
     "output_type": "stream",
     "text": [
      " ['suger', 'soap', 'pencil', 'cream', 'shampoo']\n"
     ]
    }
   ],
   "source": [
    "cart.remove_item(\"bag\")"
   ]
  },
  {
   "cell_type": "code",
   "execution_count": 205,
   "id": "60853db9",
   "metadata": {},
   "outputs": [
    {
     "name": "stdout",
     "output_type": "stream",
     "text": [
      "['suger', 'soap', 'pencil', 'cream', 'shampoo']\n"
     ]
    }
   ],
   "source": [
    "cart.view_cart()"
   ]
  },
  {
   "cell_type": "code",
   "execution_count": 206,
   "id": "94e57be6",
   "metadata": {},
   "outputs": [
    {
     "name": "stdout",
     "output_type": "stream",
     "text": [
      "[]\n"
     ]
    }
   ],
   "source": [
    "cart.clear_cart()"
   ]
  },
  {
   "cell_type": "markdown",
   "id": "a17ef80a",
   "metadata": {},
   "source": [
    "# 4"
   ]
  },
  {
   "cell_type": "raw",
   "id": "5938e676",
   "metadata": {},
   "source": [
    "Imagine a school management system. You have to design the \"Student\" class using\n",
    "OOP concepts.The “Student” class has the following attributes:\n",
    "a. name: Represents the name of the student.\n",
    "b. age: Represents the age of the student.\n",
    "c. grade: Represents the grade or class of the student.\n",
    "d. student_id: Represents the unique identifier for the student.\n",
    "e. attendance: Represents the attendance record of the student.\n",
    "The class should also include the following methods:\n",
    "a. update_attendance(self, date, status): Updates the attendance record of the\n",
    "student for a given date with the provided status (e.g., present or absent).\n",
    "b. get_attendance(self): Returns the attendance record of the student.\n",
    "c. get_average_attendance(self): Calculates and returns the average\n",
    "attendance percentage of the student based on their attendance record."
   ]
  },
  {
   "cell_type": "code",
   "execution_count": 43,
   "id": "34b54167",
   "metadata": {},
   "outputs": [],
   "source": [
    "class Student:\n",
    "    def __init__(self,name,age,grade,student_id,attendence,date,status):\n",
    "        self.name=name\n",
    "        self.age=age\n",
    "        self.student_id=student_id\n",
    "        self.attendence=attendence\n",
    "        self.date=date\n",
    "        self.status=status\n",
    "        \n",
    "    def record(self,name,age,student_id,attendence,date,status):\n",
    "        print({\"name\":self.name,\"age\":self.age,\"student_id\":self.student_id,\"attendence\":self.attendence,\"date\":self.date,\"status\":self.status})\n",
    "     \n",
    "    def update_attendance(self,date,status):\n",
    "        d={\"name\":self.name,\"age\":self.age,\"student_id\":self.student_id,\"attendence\":self.attendence,\"date\":date,\"status\":status}\n",
    "        print(d)\n",
    "        \n",
    "    def attendence_record(self):\n",
    "        print(f'The student name \"{self.name}\" is present {self.attendence} days of month')\n",
    "        \n",
    "    def get_average_attendance(self):\n",
    "        average=int((self.attendence/30)*100)\n",
    "        print(f'The student name \"{self.name}\" average presenty is {average} % in a month')\n",
    "        "
   ]
  },
  {
   "cell_type": "code",
   "execution_count": 44,
   "id": "15c1975d",
   "metadata": {},
   "outputs": [],
   "source": [
    "stu1=Student(\"Ram\",12,\"A\",215,23,\"12/5/2023\",\"present\")"
   ]
  },
  {
   "cell_type": "code",
   "execution_count": 45,
   "id": "3fb441ca",
   "metadata": {},
   "outputs": [
    {
     "name": "stdout",
     "output_type": "stream",
     "text": [
      "{'name': 'Ram', 'age': 12, 'student_id': 215, 'attendence': 23, 'date': '12/5/2023', 'status': 'present'}\n"
     ]
    }
   ],
   "source": [
    "stu1.record(\"Ram\",12,215,23,\"12/5/2023\",\"present\")"
   ]
  },
  {
   "cell_type": "code",
   "execution_count": 46,
   "id": "3de38c13",
   "metadata": {},
   "outputs": [
    {
     "name": "stdout",
     "output_type": "stream",
     "text": [
      "{'name': 'Ram', 'age': 12, 'student_id': 215, 'attendence': 23, 'date': '14/5/23023', 'status': 'absent'}\n"
     ]
    }
   ],
   "source": [
    "stu1.update_attendance(\"14/5/23023\",\"absent\")"
   ]
  },
  {
   "cell_type": "code",
   "execution_count": 47,
   "id": "9f3ad845",
   "metadata": {},
   "outputs": [
    {
     "name": "stdout",
     "output_type": "stream",
     "text": [
      "The student name \"Ram\" average presenty is 76 % in a month\n"
     ]
    }
   ],
   "source": [
    "stu1.get_average_attendance()"
   ]
  },
  {
   "cell_type": "code",
   "execution_count": 48,
   "id": "8ddca87a",
   "metadata": {},
   "outputs": [
    {
     "name": "stdout",
     "output_type": "stream",
     "text": [
      "The student name \"Ram\" is present 23 days of month\n"
     ]
    }
   ],
   "source": [
    "stu1.attendence_record()"
   ]
  }
 ],
 "metadata": {
  "kernelspec": {
   "display_name": "Python 3 (ipykernel)",
   "language": "python",
   "name": "python3"
  },
  "language_info": {
   "codemirror_mode": {
    "name": "ipython",
    "version": 3
   },
   "file_extension": ".py",
   "mimetype": "text/x-python",
   "name": "python",
   "nbconvert_exporter": "python",
   "pygments_lexer": "ipython3",
   "version": "3.9.7"
  }
 },
 "nbformat": 4,
 "nbformat_minor": 5
}
